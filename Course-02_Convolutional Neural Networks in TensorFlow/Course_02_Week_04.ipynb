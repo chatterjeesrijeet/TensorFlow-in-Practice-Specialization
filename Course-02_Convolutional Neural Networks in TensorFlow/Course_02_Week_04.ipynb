{
  "nbformat": 4,
  "nbformat_minor": 0,
  "metadata": {
    "colab": {
      "name": "Course_02_Week_04.ipynb",
      "provenance": [],
      "collapsed_sections": [
        "DujdShFQYsgb",
        "XkxVUixP5mAr",
        "Q4QESO7Bak0y",
        "6qbqM-XBcO-u",
        "xqPcQpAQmcmI",
        "14Qpebihfe4q",
        "llYNHpXWfWtu",
        "i-nJ9nAvzgzh",
        "M7eD9IIE_4uB",
        "GUffShbBQbt1",
        "BBnz-AbsaWWo",
        "RwQc5jcqLLt4",
        "ORx3Wvg5PlM0",
        "KNYprdFVbUCU",
        "l6UXgtV_LFiu",
        "lmml--8OIZe4",
        "H4xcMtnT_zZl",
        "uYbN2HV5KfEb",
        "WbviAcnVEXcJ",
        "8YUVdVHqL6a7",
        "dQvK09TQMBxM",
        "N9cYg6DIkGwt",
        "JGcmCy_48gsk",
        "nBPT3LkV_lNy",
        "8LqDCo5CkYn0",
        "RUv6s-tVa4hl",
        "iSp6MB7ZhT_s",
        "M0IOEc-2j8lr",
        "PlWZawLbkAcG",
        "e6R2FzbdkGac",
        "RJqosIAxiHiZ",
        "XSAwCBfoi-vv",
        "tKjE0PKxjWP-",
        "xnB4XpxOjZJO",
        "jnRxgMtijirE",
        "dGTtjG_NjrM-",
        "8FDuzLxBSfqX",
        "qNMhA-j1YlFt",
        "TXialC-1cfu4",
        "ArJdiELJcqLJ",
        "o3nva6jaGi5l",
        "x2LfQVEbGREX",
        "THKD1GKTL62Y",
        "a8jRYSeKM9RY",
        "iqQwcabWhkIu",
        "aVgJOwCwstHt",
        "3BWv-MA8fnI2",
        "saFOXyjTp7WU",
        "HA_JNeUfqQHQ"
      ],
      "toc_visible": true
    },
    "kernelspec": {
      "name": "python3",
      "display_name": "Python 3"
    },
    "accelerator": "GPU"
  },
  "cells": [
    {
      "cell_type": "markdown",
      "metadata": {
        "id": "oZQHJBmlaBwM",
        "colab_type": "text"
      },
      "source": [
        "#Course 02\n",
        "Convolutional Neural Networks in TensorFlow"
      ]
    },
    {
      "cell_type": "markdown",
      "metadata": {
        "id": "oMBRu034tWdz",
        "colab_type": "text"
      },
      "source": [
        "##Week 04 : Multiclass Classification"
      ]
    },
    {
      "cell_type": "markdown",
      "metadata": {
        "id": "78wv9yuEjMTC",
        "colab_type": "text"
      },
      "source": [
        "###Rock Paper Scissor multiclass classification :"
      ]
    },
    {
      "cell_type": "markdown",
      "metadata": {
        "id": "PvLJzQAAjUz2",
        "colab_type": "text"
      },
      "source": [
        "http://www.laurencemoroney.com/rock-paper-scissors-dataset/\n",
        "\n",
        "Rock Paper Scissors is a dataset containing 2,892 images of diverse hands in Rock/Paper/Scissors poses. It is licensed CC By 2.0 and available for all purposes, but it’s intent is primarily for learning and research.\n",
        "\n",
        "Rock Paper Scissors contains images from a variety of different hands,  from different races, ages and genders, posed into Rock / Paper or Scissors and labelled as such. You can download the training set here, and the test set here. These images have all been generated using CGI techniques as an experiment in determining if a CGI-based dataset can be used for classification against real images. I also generated a few images that you can use for predictions. You can find them here.\n",
        "\n",
        "Note that all of this data is posed against a white background.\n",
        "\n",
        "Each image is 300×300 pixels in 24-bit color\n",
        "\n",
        "You'll see how this dataset can be used to build a multi-class classifier in the next video"
      ]
    },
    {
      "cell_type": "code",
      "metadata": {
        "id": "HpX8j6oCtXy6",
        "colab_type": "code",
        "outputId": "08827a2e-f818-4d6e-962f-7d1caf59790b",
        "colab": {
          "base_uri": "https://localhost:8080/",
          "height": 417
        }
      },
      "source": [
        "#download the dataset:\n",
        "\n",
        "!wget --no-check-certificate \\\n",
        "    https://storage.googleapis.com/laurencemoroney-blog.appspot.com/rps.zip \\\n",
        "    -O /tmp/rps.zip\n",
        "  \n",
        "!wget --no-check-certificate \\\n",
        "    https://storage.googleapis.com/laurencemoroney-blog.appspot.com/rps-test-set.zip \\\n",
        "    -O /tmp/rps-test-set.zip"
      ],
      "execution_count": 0,
      "outputs": [
        {
          "output_type": "stream",
          "text": [
            "--2020-04-02 20:21:30--  https://storage.googleapis.com/laurencemoroney-blog.appspot.com/rps.zip\n",
            "Resolving storage.googleapis.com (storage.googleapis.com)... 172.217.194.128, 2404:6800:4003:c04::80\n",
            "Connecting to storage.googleapis.com (storage.googleapis.com)|172.217.194.128|:443... connected.\n",
            "HTTP request sent, awaiting response... 200 OK\n",
            "Length: 200682221 (191M) [application/zip]\n",
            "Saving to: ‘/tmp/rps.zip’\n",
            "\n",
            "/tmp/rps.zip        100%[===================>] 191.38M  51.4MB/s    in 3.7s    \n",
            "\n",
            "2020-04-02 20:21:34 (51.4 MB/s) - ‘/tmp/rps.zip’ saved [200682221/200682221]\n",
            "\n",
            "--2020-04-02 20:21:37--  https://storage.googleapis.com/laurencemoroney-blog.appspot.com/rps-test-set.zip\n",
            "Resolving storage.googleapis.com (storage.googleapis.com)... 74.125.24.128, 2404:6800:4003:c03::80\n",
            "Connecting to storage.googleapis.com (storage.googleapis.com)|74.125.24.128|:443... connected.\n",
            "HTTP request sent, awaiting response... 200 OK\n",
            "Length: 29516758 (28M) [application/zip]\n",
            "Saving to: ‘/tmp/rps-test-set.zip’\n",
            "\n",
            "/tmp/rps-test-set.z 100%[===================>]  28.15M  48.0MB/s    in 0.6s    \n",
            "\n",
            "2020-04-02 20:21:38 (48.0 MB/s) - ‘/tmp/rps-test-set.zip’ saved [29516758/29516758]\n",
            "\n"
          ],
          "name": "stdout"
        }
      ]
    },
    {
      "cell_type": "code",
      "metadata": {
        "id": "RIFY9tvgjjP7",
        "colab_type": "code",
        "colab": {}
      },
      "source": [
        "# Then we need to unzip and place  it  a folder structure for the ImageDataGenerator :\n",
        "\n",
        "import os\n",
        "import zipfile\n",
        "\n",
        "zipped_train_file_path =  '/tmp/rps.zip'\n",
        "zipped_test_file_path = '/tmp/rps-test-set.zip'\n",
        "\n",
        "\n",
        "#lets now unzip it all :\n",
        "\n",
        "zip_ref = zipfile.ZipFile(zipped_train_file_path,'r')\n",
        "zip_ref.extractall('/tmp/')\n",
        "zip_ref.close()\n",
        "\n",
        "zip_ref = zipfile.ZipFile(zipped_test_file_path ,'r')\n",
        "zip_ref.extractall('/tmp/')\n",
        "zip_ref.close()\n",
        "\n",
        "# Now you can check it already has the paper, rock , scissors folder created under them "
      ],
      "execution_count": 0,
      "outputs": []
    },
    {
      "cell_type": "code",
      "metadata": {
        "id": "uBujeY9UkkRv",
        "colab_type": "code",
        "outputId": "d05daf20-cc71-4d47-98b3-dc99719ff98a",
        "colab": {
          "base_uri": "https://localhost:8080/",
          "height": 146
        }
      },
      "source": [
        "# now lets create the directory structure :\n",
        "\n",
        "rock_dir = os.path.join('/tmp/rps/rock')\n",
        "paper_dir = os.path.join('/tmp/rps/paper')\n",
        "scissors_dir = os.path.join('/tmp/rps/scissors')\n",
        "\n",
        "print('Total Training Rock Images : ', len(os.listdir(rock_dir)))\n",
        "print('Total Training Paper Images :', len(os.listdir(paper_dir)))\n",
        "print('Total training Scissors Images :',len(os.listdir(scissors_dir)))\n",
        "\n",
        "rock_files = os.listdir(rock_dir)\n",
        "print(rock_files[0:5])\n",
        "\n",
        "paper_files = os.listdir(paper_dir)\n",
        "print(paper_files[0:5])\n",
        "\n",
        "scissors_files = os.listdir(scissors_dir)\n",
        "print(scissors_files[0:10])\n"
      ],
      "execution_count": 0,
      "outputs": [
        {
          "output_type": "stream",
          "text": [
            "Total Training Rock Images :  840\n",
            "Total Training Paper Images : 840\n",
            "Total training Scissors Images : 840\n",
            "['rock07-k03-000.png', 'rock04-063.png', 'rock03-037.png', 'rock04-086.png', 'rock07-k03-023.png']\n",
            "['paper02-086.png', 'paper02-065.png', 'paper05-108.png', 'paper05-060.png', 'paper05-001.png']\n",
            "['scissors02-068.png', 'testscissors03-040.png', 'scissors02-087.png', 'testscissors03-028.png', 'scissors04-043.png', 'testscissors03-106.png', 'testscissors01-115.png', 'testscissors03-046.png', 'testscissors02-084.png', 'testscissors01-051.png']\n"
          ],
          "name": "stdout"
        }
      ]
    },
    {
      "cell_type": "code",
      "metadata": {
        "id": "N5ZVF2pFmIwE",
        "colab_type": "code",
        "colab": {}
      },
      "source": [
        "# Lets plot some of them :\n",
        "\n",
        "%matplotlib inline\n",
        "\n",
        "import matplotlib.pyplot as plt\n",
        "import matplotlib.image as mpimg\n",
        "\n",
        "pic_index = 2\n",
        "\n",
        "rock_files_list = [os.path.join(rock_dir,fnames) for fnames in os.listdir(rock_dir)[pic_index-2:pic_index]]\n",
        "paper_files_list = [os.path.join(paper_dir,fnames) for fnames in os.listdir(paper_dir)[pic_index-2:pic_index]]\n",
        "scissors_files_list = [os.path.join(scissors_dir,fnames) for fnames in os.listdir(scissors_dir)[pic_index-2:pic_index]]\n",
        "\n",
        "complete_list_files = rock_files_list + paper_files_list + scissors_files_list\n",
        "\n",
        "for i,img_path in enumerate(complete_list_files):\n",
        "  img = mpimg.imread(img_path)\n",
        "  plt.imshow(img)\n",
        "  plt.axis('off')\n",
        "  plt.show()"
      ],
      "execution_count": 0,
      "outputs": []
    },
    {
      "cell_type": "code",
      "metadata": {
        "id": "UeHE0hTimbxz",
        "colab_type": "code",
        "outputId": "3b2d1539-ddf6-426f-d598-9b8b35e15eb4",
        "colab": {
          "base_uri": "https://localhost:8080/",
          "height": 53
        }
      },
      "source": [
        "# Now lets create the image data generator\n",
        "import tensorflow as tf\n",
        "import numpy as np\n",
        "\n",
        "train_datagen = tf.keras.preprocessing.image.ImageDataGenerator(\n",
        "                 rescale = 1.0/255.,\n",
        "                 rotation_range = 40,\n",
        "                 width_shift_range = 0.2,\n",
        "                 height_shift_range = 0.2,\n",
        "                 shear_range = 0.2,\n",
        "                 zoom_range = 0.2,\n",
        "                 horizontal_flip = True,\n",
        "                 fill_mode = 'nearest'\n",
        ")\n",
        "\n",
        "train_generator = train_datagen.flow_from_directory(\n",
        "                  directory = '/tmp/rps/',\n",
        "                  target_size = (150,150),\n",
        "                  class_mode = 'categorical',\n",
        "                  batch_size = 20     \n",
        ")\n",
        "\n",
        "validation_datagen = tf.keras.preprocessing.image.ImageDataGenerator(\n",
        "                 rescale = 1.0/255.,\n",
        ")\n",
        "\n",
        "validation_generator = train_datagen.flow_from_directory(\n",
        "                  directory = '/tmp/rps-test-set/',\n",
        "                  target_size = (150,150),\n",
        "                  class_mode = 'categorical',\n",
        "                  batch_size = 12     \n",
        ")"
      ],
      "execution_count": 0,
      "outputs": [
        {
          "output_type": "stream",
          "text": [
            "Found 2520 images belonging to 3 classes.\n",
            "Found 372 images belonging to 3 classes.\n"
          ],
          "name": "stdout"
        }
      ]
    },
    {
      "cell_type": "code",
      "metadata": {
        "id": "WSKjnSw_mb1G",
        "colab_type": "code",
        "outputId": "f942e324-893d-4f0a-87a5-602739eebcde",
        "colab": {
          "base_uri": "https://localhost:8080/",
          "height": 598
        }
      },
      "source": [
        "#Lets now build the model :\n",
        "\n",
        "model = tf.keras.models.Sequential([\n",
        "                      tf.keras.layers.Conv2D(filters = 64, kernel_size =(3,3),activation = 'relu',input_shape = (150,150,3)),\n",
        "                      tf.keras.layers.MaxPooling2D(2,2),\n",
        "\n",
        "                      tf.keras.layers.Conv2D(filters = 64,kernel_size = (3,3),activation = 'relu'),\n",
        "                      tf.keras.layers.MaxPooling2D(2,2),\n",
        "\n",
        "                      tf.keras.layers.Conv2D(filters = 128 , kernel_size = (3,3),activation = 'relu'),\n",
        "                      tf.keras.layers.MaxPooling2D(2,2),\n",
        "\n",
        "                      tf.keras.layers.Conv2D(filters = 128,kernel_size = (3,3),activation = 'relu'),\n",
        "                      tf.keras.layers.MaxPooling2D(2,2),\n",
        "\n",
        "                      tf.keras.layers.Flatten(),\n",
        "\n",
        "                      tf.keras.layers.Dropout(0.5),\n",
        "\n",
        "                      tf.keras.layers.Dense(units = 512,activation ='relu'),\n",
        "\n",
        "                      tf.keras.layers.Dense(units = 3, activation = 'softmax')\n",
        "\n",
        "])\n",
        "\n",
        "model.summary()"
      ],
      "execution_count": 0,
      "outputs": [
        {
          "output_type": "stream",
          "text": [
            "Model: \"sequential_2\"\n",
            "_________________________________________________________________\n",
            "Layer (type)                 Output Shape              Param #   \n",
            "=================================================================\n",
            "conv2d_12 (Conv2D)           (None, 148, 148, 64)      1792      \n",
            "_________________________________________________________________\n",
            "max_pooling2d_12 (MaxPooling (None, 74, 74, 64)        0         \n",
            "_________________________________________________________________\n",
            "conv2d_13 (Conv2D)           (None, 72, 72, 64)        36928     \n",
            "_________________________________________________________________\n",
            "max_pooling2d_13 (MaxPooling (None, 36, 36, 64)        0         \n",
            "_________________________________________________________________\n",
            "conv2d_14 (Conv2D)           (None, 34, 34, 128)       73856     \n",
            "_________________________________________________________________\n",
            "max_pooling2d_14 (MaxPooling (None, 17, 17, 128)       0         \n",
            "_________________________________________________________________\n",
            "conv2d_15 (Conv2D)           (None, 15, 15, 128)       147584    \n",
            "_________________________________________________________________\n",
            "max_pooling2d_15 (MaxPooling (None, 7, 7, 128)         0         \n",
            "_________________________________________________________________\n",
            "flatten_2 (Flatten)          (None, 6272)              0         \n",
            "_________________________________________________________________\n",
            "dropout_2 (Dropout)          (None, 6272)              0         \n",
            "_________________________________________________________________\n",
            "dense_4 (Dense)              (None, 512)               3211776   \n",
            "_________________________________________________________________\n",
            "dense_5 (Dense)              (None, 3)                 1539      \n",
            "=================================================================\n",
            "Total params: 3,473,475\n",
            "Trainable params: 3,473,475\n",
            "Non-trainable params: 0\n",
            "_________________________________________________________________\n"
          ],
          "name": "stdout"
        }
      ]
    },
    {
      "cell_type": "code",
      "metadata": {
        "id": "d6SU4PPVmb4T",
        "colab_type": "code",
        "colab": {}
      },
      "source": [
        "#lets now compile the model :\n",
        "\n",
        "model.compile(optimizer = tf.keras.optimizers.RMSprop(lr = 0.001),\n",
        "              loss = 'categorical_crossentropy',\n",
        "              metrics = 'accuracy')"
      ],
      "execution_count": 0,
      "outputs": []
    },
    {
      "cell_type": "code",
      "metadata": {
        "id": "BZX1Ey5yr4F8",
        "colab_type": "code",
        "outputId": "203e7935-739a-4c1d-c859-a6a60d0cb034",
        "colab": {
          "base_uri": "https://localhost:8080/",
          "height": 400
        }
      },
      "source": [
        "#lets now train the model :\n",
        "history = model.fit_generator(train_generator,\n",
        "          steps_per_epoch = 126,\n",
        "          epochs = 10,\n",
        "          validation_data = validation_generator,\n",
        "          validation_steps = 31,\n",
        "          verbose = 1)"
      ],
      "execution_count": 0,
      "outputs": [
        {
          "output_type": "stream",
          "text": [
            "Epoch 1/10\n",
            "126/126 [==============================] - 25s 196ms/step - loss: 0.1233 - accuracy: 0.9599 - val_loss: 0.2580 - val_accuracy: 0.9032\n",
            "Epoch 2/10\n",
            "126/126 [==============================] - 25s 195ms/step - loss: 0.1237 - accuracy: 0.9607 - val_loss: 0.1767 - val_accuracy: 0.9274\n",
            "Epoch 3/10\n",
            "126/126 [==============================] - 24s 194ms/step - loss: 0.1148 - accuracy: 0.9671 - val_loss: 0.3950 - val_accuracy: 0.8441\n",
            "Epoch 4/10\n",
            "126/126 [==============================] - 25s 196ms/step - loss: 0.1059 - accuracy: 0.9675 - val_loss: 0.1135 - val_accuracy: 0.9516\n",
            "Epoch 5/10\n",
            "126/126 [==============================] - 25s 195ms/step - loss: 0.0888 - accuracy: 0.9746 - val_loss: 0.2779 - val_accuracy: 0.9086\n",
            "Epoch 6/10\n",
            "126/126 [==============================] - 25s 196ms/step - loss: 0.1173 - accuracy: 0.9702 - val_loss: 0.3135 - val_accuracy: 0.8817\n",
            "Epoch 7/10\n",
            "126/126 [==============================] - 25s 195ms/step - loss: 0.0875 - accuracy: 0.9730 - val_loss: 0.1331 - val_accuracy: 0.9435\n",
            "Epoch 8/10\n",
            "126/126 [==============================] - 25s 196ms/step - loss: 0.0853 - accuracy: 0.9746 - val_loss: 0.2060 - val_accuracy: 0.9355\n",
            "Epoch 9/10\n",
            "126/126 [==============================] - 25s 196ms/step - loss: 0.1305 - accuracy: 0.9683 - val_loss: 0.1580 - val_accuracy: 0.9409\n",
            "Epoch 10/10\n",
            "126/126 [==============================] - 25s 197ms/step - loss: 0.0897 - accuracy: 0.9710 - val_loss: 0.2358 - val_accuracy: 0.9247\n"
          ],
          "name": "stdout"
        }
      ]
    },
    {
      "cell_type": "code",
      "metadata": {
        "id": "xJjfGWjkscb_",
        "colab_type": "code",
        "colab": {}
      },
      "source": [
        "#Lets save the model :\n",
        "\n",
        "model.save('rps.h5')"
      ],
      "execution_count": 0,
      "outputs": []
    },
    {
      "cell_type": "code",
      "metadata": {
        "id": "oMsVYrjpsnDv",
        "colab_type": "code",
        "outputId": "3c01c2d4-ff2b-4e84-a20b-369b28e3674a",
        "colab": {
          "base_uri": "https://localhost:8080/",
          "height": 563
        }
      },
      "source": [
        "#lets now plot the results :\n",
        "\n",
        "import matplotlib.pyplot as plt\n",
        "\n",
        "acc = history.history['accuracy']\n",
        "val_acc = history.history['val_accuracy']\n",
        "\n",
        "loss = history.history['loss']\n",
        "val_loss = history.history['val_loss']\n",
        "\n",
        "epochs = range(len(acc))\n",
        "\n",
        "\n",
        "plt.plot(epochs,acc,'b',label = 'Training Accuracy')\n",
        "plt.plot(epochs,val_acc,'r',label = 'Validation Accuracy')\n",
        "plt.title('Training Vs Validation Accuracy')\n",
        "plt.legend(loc = 0)\n",
        "plt.figure()\n",
        "\n",
        "plt.plot(epochs,loss,'b',label = 'Training Loss')\n",
        "plt.plot(epochs,val_loss,'r',label = 'Validation Loss')\n",
        "plt.title('Training Vs Validation Loss')\n",
        "plt.legend(loc = 0)\n",
        "plt.figure()\n",
        "\n",
        "plt.show()"
      ],
      "execution_count": 0,
      "outputs": [
        {
          "output_type": "display_data",
          "data": {
            "image/png": "[encoded data removed]",
            "text/plain": [
              "<Figure size 432x288 with 1 Axes>"
            ]
          },
          "metadata": {
            "tags": []
          }
        },
        {
          "output_type": "display_data",
          "data": {
            "image/png": "[encoded data removed]",
            "text/plain": [
              "<Figure size 432x288 with 1 Axes>"
            ]
          },
          "metadata": {
            "tags": []
          }
        },
        {
          "output_type": "display_data",
          "data": {
            "text/plain": [
              "<Figure size 432x288 with 0 Axes>"
            ]
          },
          "metadata": {
            "tags": []
          }
        }
      ]
    },
    {
      "cell_type": "code",
      "metadata": {
        "id": "CzJ53-6jt_7M",
        "colab_type": "code",
        "colab": {}
      },
      "source": [
        "import numpy as np\n",
        "from goolge.colab import files \n",
        "from keras.preprocessing import image\n",
        "\n",
        "# uploaded = files.upload()\n",
        "\n",
        "# for fn in uploaded.keys():\n",
        "\n",
        "  # path = fn\n",
        "path = '/tmp/img-1.jpg'\n",
        "img = image.load_img(path,target_size = (150,150))\n",
        "x = image.img_to_array(img)\n",
        "x = np.expand_dims(x, axis = 0)\n",
        "\n",
        "images = np.vstack([x])\n",
        "classes = model.predict(images,batch_size = 10)\n",
        "print(fn)\n",
        "print(classes)"
      ],
      "execution_count": 0,
      "outputs": []
    },
    {
      "cell_type": "code",
      "metadata": {
        "id": "v9pVoWBnt_-s",
        "colab_type": "code",
        "colab": {}
      },
      "source": [
        ""
      ],
      "execution_count": 0,
      "outputs": []
    },
    {
      "cell_type": "markdown",
      "metadata": {
        "id": "4ymjs_tf9a0b",
        "colab_type": "text"
      },
      "source": [
        "###Assignment 04 Sign Language MNIST"
      ]
    },
    {
      "cell_type": "markdown",
      "metadata": {
        "id": "-fHw0MLl9jpj",
        "colab_type": "text"
      },
      "source": [
        "Exercise 4 - Multi-class classifier\n",
        "\n",
        "Now that you've explored the concepts behind going from binary classification to multi class classification, it's time for another Exercise. In this one you'll use the Sign Language dataset from https://www.kaggle.com/datamunge/sign-language-mnist, and attempt to build a multi-class classifier to recognize sign language!\n",
        "\n",
        "Let's build a multi-class classifier to recognize sign language!\n",
        "\n",
        "NOTE: Please do not alter any of the provided code in the exercise. Only add your own code where indicated. Please do not add or remove any cells in the exercise. The grader will check specific cells based on the cell position. Please use the provided epoch values when training. Once you have completed your notebook assignment and received a final score, please save your notebook, run the final cell, and close your Jupyter Workspace. This will help optimize your Jupyter workspace performance for future assessments. Please note that this step will shut down your kernel, so it is important to save your work in advance of completing this step"
      ]
    },
    {
      "cell_type": "code",
      "metadata": {
        "id": "2Lkh-8Ytt_5G",
        "colab_type": "code",
        "colab": {}
      },
      "source": [
        "# ATTENTION: Please do not alter any of the provided code in the exercise. Only add your own code where indicated\n",
        "# ATTENTION: Please do not add or remove any cells in the exercise. The grader will check specific cells based on the cell position.\n",
        "# ATTENTION: Please use the provided epoch values when training.\n",
        "\n",
        "import csv\n",
        "import numpy as np\n",
        "import tensorflow as tf\n",
        "from tensorflow.keras.preprocessing.image import ImageDataGenerator\n",
        "from os import getcwd"
      ],
      "execution_count": 0,
      "outputs": []
    },
    {
      "cell_type": "markdown",
      "metadata": {
        "id": "wqX4T_-g-OLc",
        "colab_type": "text"
      },
      "source": [
        "The data for this exercise is available at: https://www.kaggle.com/datamunge/sign-language-mnist/home\n",
        "\n",
        "Sign up and download to find 2 CSV files: sign_mnist_test.csv and sign_mnist_train.csv -- You will upload both of them using this button before you can continue.\n"
      ]
    },
    {
      "cell_type": "code",
      "metadata": {
        "id": "vhnFDeQGt_25",
        "colab_type": "code",
        "colab": {}
      },
      "source": [
        "def get_data(filename):\n",
        "    \n",
        "  # You will need to write code that will read the file passed\n",
        "  # into this function. The first line contains the column headers\n",
        "  # so you should ignore it\n",
        "  # Each successive line contians 785 comma separated values between 0 and 255\n",
        "  # The first value is the label\n",
        "  # The rest are the pixel values for that picture\n",
        "  # The function will return 2 np.array types. One with all the labels\n",
        "  # One with all the images\n",
        "  #\n",
        "  # Tips: \n",
        "  # If you read a full line (as 'row') then row[0] has the label\n",
        "  # and row[1:785] has the 784 pixel values\n",
        "  # Take a look at np.array_split to turn the 784 pixels into 28x28\n",
        "  # You are reading in strings, but need the values to be floats\n",
        "  # Check out np.array().astype for a conversion\n",
        "#     with open(filename) as training_file:\n",
        "#         data = np.genfromtxt(training_file, delimiter=',', skip_header=1)\n",
        "#         labels = data[:, 0].astype(np.float)\n",
        "#         images = data[:, 1:].astype(np.float)\n",
        "#         images = np.reshape(images,(-1,28,28))\n",
        "#         #Your code ends here\n",
        "#         return images, labels\n",
        "    \n",
        "    with open(filename) as training_file:\n",
        "        reader = csv.reader(training_file, delimiter=',')    \n",
        "        imgs = []\n",
        "        labels = []\n",
        "\n",
        "        next(reader, None)\n",
        "        \n",
        "        for row in reader:\n",
        "            label = row[0]\n",
        "            data = row[1:]\n",
        "            img = np.array(data).reshape((28, 28))\n",
        "\n",
        "            imgs.append(img)\n",
        "            labels.append(label)\n",
        "\n",
        "        images = np.array(imgs).astype(float)\n",
        "        labels = np.array(labels).astype(float)\n",
        "            \n",
        "    return images, labels\n",
        "\n",
        "path_sign_mnist_train = f\"{getcwd()}/../tmp2/sign_mnist_train.csv\"\n",
        "path_sign_mnist_test = f\"{getcwd()}/../tmp2/sign_mnist_test.csv\"\n",
        "training_images, training_labels = get_data(path_sign_mnist_train)\n",
        "testing_images, testing_labels = get_data(path_sign_mnist_test)\n",
        "\n",
        "# Keep these\n",
        "print(training_images.shape)\n",
        "print(training_labels.shape)\n",
        "print(testing_images.shape)\n",
        "print(testing_labels.shape)\n",
        "\n",
        "# Their output should be:\n",
        "# (27455, 28, 28)\n",
        "# (27455,)\n",
        "# (7172, 28, 28)\n",
        "# (7172,)"
      ],
      "execution_count": 0,
      "outputs": []
    },
    {
      "cell_type": "code",
      "metadata": {
        "id": "4LL5hAsj-SUw",
        "colab_type": "code",
        "colab": {}
      },
      "source": [
        "# In this section you will have to add another dimension to the data\n",
        "# So, for example, if your array is (10000, 28, 28)\n",
        "# You will need to make it (10000, 28, 28, 1)\n",
        "# Hint: np.expand_dims\n",
        "\n",
        "# training_images = np.reshape(training_images,(training_images.shape[0],training_images.shape[1],training_images.shape[2],1))# Your Code Here\n",
        "# testing_images = np.reshape(testing_images,(testing_images.shape[0],testing_images.shape[1],testing_images.shape[2],1)) # Your Code Here\n",
        "\n",
        "training_images = np.expand_dims(training_images, axis=3)\n",
        "testing_images = np.expand_dims(testing_images, axis=3)\n",
        "\n",
        "# Create an ImageDataGenerator and do Image Augmentation\n",
        "\n",
        "train_datagen = ImageDataGenerator(\n",
        "    rescale = 1./255,\n",
        "    rotation_range=40,\n",
        "    width_shift_range=0.2,\n",
        "    height_shift_range=0.2,\n",
        "    shear_range=0.2,\n",
        "    zoom_range=0.2,\n",
        "    horizontal_flip=True,\n",
        "    fill_mode='nearest'\n",
        "    # Your Code Here\n",
        "    )\n",
        "\n",
        "validation_datagen = ImageDataGenerator(\n",
        "    rescale = 1./255\n",
        "    # Your Code Here\n",
        ")\n",
        "\n",
        "\n",
        "# Keep These\n",
        "print(training_images.shape)\n",
        "print(testing_images.shape)\n",
        "    \n",
        "# Their output should be:\n",
        "# (27455, 28, 28, 1)\n",
        "# (7172, 28, 28, 1)"
      ],
      "execution_count": 0,
      "outputs": []
    },
    {
      "cell_type": "code",
      "metadata": {
        "id": "o1WeAWI9-SxW",
        "colab_type": "code",
        "colab": {}
      },
      "source": [
        "# Define the model\n",
        "# Use no more than 2 Conv2D and 2 MaxPooling2D\n",
        "model = tf.keras.models.Sequential([\n",
        "    # Your Code Here\n",
        "    \n",
        "    tf.keras.layers.Conv2D(64, (3,3), activation='relu', input_shape=(28, 28, 1)),\n",
        "    tf.keras.layers.MaxPooling2D(2, 2),\n",
        "\n",
        "    tf.keras.layers.Conv2D(128, (3,3), activation='relu'),\n",
        "    tf.keras.layers.MaxPooling2D(2,2),\n",
        "    \n",
        "    tf.keras.layers.Flatten(),\n",
        "    \n",
        "    tf.keras.layers.Dropout(0.5),\n",
        "    \n",
        "    tf.keras.layers.Dense(512, activation = 'relu'),\n",
        "    \n",
        "    tf.keras.layers.Dense(26, activation = 'softmax')\n",
        "    \n",
        "])\n",
        "\n",
        "# Compile Model. \n",
        "model.compile(loss = 'sparse_categorical_crossentropy', optimizer='adam', metrics=['accuracy'])\n",
        "# Your Code Here)\n",
        "\n",
        "\n",
        "# Configure generators\n",
        "train_generator = train_datagen.flow(\n",
        "    training_images,\n",
        "    training_labels,\n",
        "    batch_size=64\n",
        ")\n",
        "\n",
        "validation_generator = validation_datagen.flow(\n",
        "    testing_images,\n",
        "    testing_labels,\n",
        "    batch_size=64\n",
        ")\n",
        "\n",
        "# Train the Model\n",
        "history = model.fit_generator(train_generator, \n",
        "                              epochs = 2,\n",
        "                              validation_data = validation_generator,\n",
        "                              verbose = 1)\n",
        "                              # Your Code Here (set 'epochs' = 2))\n",
        "\n",
        "model.evaluate(testing_images, testing_labels, verbose = 0)"
      ],
      "execution_count": 0,
      "outputs": []
    },
    {
      "cell_type": "code",
      "metadata": {
        "id": "x158GSXg-Unb",
        "colab_type": "code",
        "colab": {}
      },
      "source": [
        "# Plot the chart for accuracy and loss on both training and validation\n",
        "%matplotlib inline\n",
        "import matplotlib.pyplot as plt\n",
        "\n",
        "acc = history.history['accuracy']\n",
        "val_acc = history.history['val_accuracy']\n",
        "loss = history.history['loss']\n",
        "val_loss = history.history['val_loss']\n",
        "\n",
        "epochs = range(len(acc))\n",
        "\n",
        "plt.plot(epochs, acc, 'r', label='Training accuracy')\n",
        "plt.plot(epochs, val_acc, 'b', label='Validation accuracy')\n",
        "plt.title('Training and validation accuracy')\n",
        "plt.legend()\n",
        "plt.figure()\n",
        "\n",
        "plt.plot(epochs, loss, 'r', label='Training Loss')\n",
        "plt.plot(epochs, val_loss, 'b', label='Validation Loss')\n",
        "plt.title('Training and validation loss')\n",
        "plt.legend()\n",
        "\n",
        "plt.show()"
      ],
      "execution_count": 0,
      "outputs": []
    },
    {
      "cell_type": "markdown",
      "metadata": {
        "id": "IiaD9bIUyaQ0",
        "colab_type": "text"
      },
      "source": [
        "####Submission Instructions"
      ]
    },
    {
      "cell_type": "code",
      "metadata": {
        "id": "j1dSe09z-WS1",
        "colab_type": "code",
        "colab": {}
      },
      "source": [
        "# Now click the 'Submit Assignment' button above."
      ],
      "execution_count": 0,
      "outputs": []
    },
    {
      "cell_type": "markdown",
      "metadata": {
        "id": "82h0Spg6ygRw",
        "colab_type": "text"
      },
      "source": [
        "#### When you're done or would like to take a break, please run the two cells below to save your work and close the Notebook. This will free up resources for your fellow learners. "
      ]
    },
    {
      "cell_type": "code",
      "metadata": {
        "id": "9ZZ2y_6hyeKx",
        "colab_type": "code",
        "colab": {}
      },
      "source": [
        "# %%javascript\n",
        "# <!-- Save the notebook -->\n",
        "# IPython.notebook.save_checkpoint();"
      ],
      "execution_count": 0,
      "outputs": []
    },
    {
      "cell_type": "code",
      "metadata": {
        "id": "B_6HY--dykfS",
        "colab_type": "code",
        "colab": {}
      },
      "source": [
        "# %%javascript\n",
        "# IPython.notebook.session.delete();\n",
        "# window.onbeforeunload = null\n",
        "# setTimeout(function() { window.close(); }, 1000);"
      ],
      "execution_count": 0,
      "outputs": []
    },
    {
      "cell_type": "code",
      "metadata": {
        "id": "fyfMkjR6youu",
        "colab_type": "code",
        "colab": {}
      },
      "source": [
        ""
      ],
      "execution_count": 0,
      "outputs": []
    }
  ]
}