{
  "nbformat": 4,
  "nbformat_minor": 0,
  "metadata": {
    "colab": {
      "name": "Course_01_Week_02.ipynb",
      "provenance": [],
      "collapsed_sections": [
        "DujdShFQYsgb",
        "XkxVUixP5mAr",
        "Q4QESO7Bak0y",
        "6qbqM-XBcO-u",
        "xqPcQpAQmcmI",
        "14Qpebihfe4q",
        "llYNHpXWfWtu",
        "i-nJ9nAvzgzh",
        "M7eD9IIE_4uB",
        "GUffShbBQbt1",
        "BBnz-AbsaWWo",
        "RwQc5jcqLLt4",
        "ORx3Wvg5PlM0",
        "KNYprdFVbUCU",
        "l6UXgtV_LFiu",
        "lmml--8OIZe4",
        "H4xcMtnT_zZl",
        "uYbN2HV5KfEb",
        "WbviAcnVEXcJ",
        "8YUVdVHqL6a7",
        "dQvK09TQMBxM",
        "N9cYg6DIkGwt",
        "JGcmCy_48gsk",
        "nBPT3LkV_lNy",
        "8LqDCo5CkYn0",
        "RUv6s-tVa4hl",
        "iSp6MB7ZhT_s",
        "M0IOEc-2j8lr",
        "PlWZawLbkAcG",
        "e6R2FzbdkGac",
        "RJqosIAxiHiZ",
        "XSAwCBfoi-vv",
        "tKjE0PKxjWP-",
        "xnB4XpxOjZJO",
        "jnRxgMtijirE",
        "dGTtjG_NjrM-",
        "8FDuzLxBSfqX",
        "qNMhA-j1YlFt",
        "TXialC-1cfu4",
        "ArJdiELJcqLJ",
        "o3nva6jaGi5l",
        "x2LfQVEbGREX",
        "THKD1GKTL62Y",
        "a8jRYSeKM9RY",
        "iqQwcabWhkIu",
        "aVgJOwCwstHt",
        "3BWv-MA8fnI2",
        "saFOXyjTp7WU",
        "HA_JNeUfqQHQ"
      ],
      "toc_visible": true
    },
    "kernelspec": {
      "name": "python3",
      "display_name": "Python 3"
    },
    "accelerator": "GPU"
  },
  "cells": [
    {
      "cell_type": "markdown",
      "metadata": {
        "id": "DujdShFQYsgb",
        "colab_type": "text"
      },
      "source": [
        "#Course 01 \n",
        "**Introduction to TensorFlow for Artificial Intelligence, Machine Learning, and Deep Learning**"
      ]
    },
    {
      "cell_type": "markdown",
      "metadata": {
        "id": "2dpaDPN85f3Y",
        "colab_type": "text"
      },
      "source": [
        "##Week 02"
      ]
    },
    {
      "cell_type": "markdown",
      "metadata": {
        "id": "14Qpebihfe4q",
        "colab_type": "text"
      },
      "source": [
        "### Fashion MNIST"
      ]
    },
    {
      "cell_type": "code",
      "metadata": {
        "id": "KEYzGmcnoQB5",
        "colab_type": "code",
        "outputId": "b62bae4f-b509-4ce8-9f52-d41dd0f49c2a",
        "colab": {
          "base_uri": "https://localhost:8080/",
          "height": 35
        }
      },
      "source": [
        "# lets first load the libraries\n",
        "import tensorflow as tf\n",
        "from tensorflow import keras\n",
        "import numpy as np\n",
        "print(tf.__version__)"
      ],
      "execution_count": 0,
      "outputs": [
        {
          "output_type": "stream",
          "text": [
            "2.1.0\n"
          ],
          "name": "stdout"
        }
      ]
    },
    {
      "cell_type": "code",
      "metadata": {
        "id": "nYEaGbbr5hIj",
        "colab_type": "code",
        "colab": {}
      },
      "source": [
        "#define a object of datatype mnist\n",
        "fashion_mnist = keras.datasets.fashion_mnist\n",
        "\n",
        "#load the data \n",
        "(train_images,train_labels),(test_images,test_labels) =  fashion_mnist.load_data()\n"
      ],
      "execution_count": 0,
      "outputs": []
    },
    {
      "cell_type": "code",
      "metadata": {
        "id": "k0aUI2_1k9Y6",
        "colab_type": "code",
        "colab": {}
      },
      "source": [
        "print(type(train_images))\n",
        "print(type(train_labels))"
      ],
      "execution_count": 0,
      "outputs": []
    },
    {
      "cell_type": "code",
      "metadata": {
        "id": "rQ2qLzemlGac",
        "colab_type": "code",
        "colab": {}
      },
      "source": [
        "print(train_images.shape)\n",
        "print(train_labels.shape)"
      ],
      "execution_count": 0,
      "outputs": []
    },
    {
      "cell_type": "code",
      "metadata": {
        "id": "7GcEL2u8oeHD",
        "colab_type": "code",
        "colab": {}
      },
      "source": [
        "#lets see one of the images :\n",
        "train_images[0]"
      ],
      "execution_count": 0,
      "outputs": []
    },
    {
      "cell_type": "code",
      "metadata": {
        "id": "Uk6xbmNSo56C",
        "colab_type": "code",
        "outputId": "aa2382b4-3641-455f-aedc-704c6ca309cf",
        "colab": {
          "base_uri": "https://localhost:8080/",
          "height": 35
        }
      },
      "source": [
        "#lets try to print the numbers in form of an image:\n",
        "print(train_images[0].shape)"
      ],
      "execution_count": 0,
      "outputs": [
        {
          "output_type": "stream",
          "text": [
            "(28, 28)\n"
          ],
          "name": "stdout"
        }
      ]
    },
    {
      "cell_type": "code",
      "metadata": {
        "id": "-zzlWT1hpMOS",
        "colab_type": "code",
        "colab": {}
      },
      "source": [
        "# so its 28*28 only so we can directly print it using matplotlib\n",
        "# lets import the library \n",
        "import matplotlib.pyplot as plt\n",
        "plt.imshow(train_images[4432])"
      ],
      "execution_count": 0,
      "outputs": []
    },
    {
      "cell_type": "code",
      "metadata": {
        "id": "zh0YiQJvpn7Y",
        "colab_type": "code",
        "colab": {}
      },
      "source": [
        "# But as we saw the values are from 0-255 so lets just nomalize the values by diving all of teh pixel values by 255\n",
        "train_images = train_images/255\n",
        "test_images = test_images/255"
      ],
      "execution_count": 0,
      "outputs": []
    },
    {
      "cell_type": "code",
      "metadata": {
        "id": "FuVUS5RyqCTn",
        "colab_type": "code",
        "colab": {}
      },
      "source": [
        "# now lets check the values :\n",
        "np.set_printoptions(linewidth = 200)\n",
        "train_images[0]"
      ],
      "execution_count": 0,
      "outputs": []
    },
    {
      "cell_type": "markdown",
      "metadata": {
        "id": "T_3rBDxBqHVr",
        "colab_type": "text"
      },
      "source": [
        "So it becomes nomalized now . All values now range from 0-1\n",
        "\n",
        "So now lets create the model."
      ]
    },
    {
      "cell_type": "code",
      "metadata": {
        "id": "Qr49BmKFlOj6",
        "colab_type": "code",
        "colab": {}
      },
      "source": [
        "model = tf.keras.models.Sequential([ keras.layers.Flatten(input_shape = (28,28)),\n",
        "                                     keras.layers.Dense(units = 128, activation = tf.nn.relu),\n",
        "                                     #keras.layers.Dense(units = 64, activation = tf.nn.relu),\n",
        "                                     keras.layers.Dense(units = 10 , activation = tf.nn.softmax)\n",
        "                                   ])"
      ],
      "execution_count": 0,
      "outputs": []
    },
    {
      "cell_type": "code",
      "metadata": {
        "id": "D9xH1bPrnQyM",
        "colab_type": "code",
        "colab": {}
      },
      "source": [
        "#Its time to compile the model now:\n",
        "model.compile(optimizer = tf.optimizers.Adam(),\n",
        "              loss = 'sparse_categorical_crossentropy',\n",
        "              metrics = ['accuracy']\n",
        "             )"
      ],
      "execution_count": 0,
      "outputs": []
    },
    {
      "cell_type": "code",
      "metadata": {
        "id": "ihc_46KbrDBT",
        "colab_type": "code",
        "colab": {}
      },
      "source": [
        "# Now lets fit the model to the training data:\n",
        "model.fit(train_images,train_labels,epochs = 10)"
      ],
      "execution_count": 0,
      "outputs": []
    },
    {
      "cell_type": "code",
      "metadata": {
        "id": "Mp2JaP_Urlgh",
        "colab_type": "code",
        "colab": {}
      },
      "source": [
        "# now lets evaluate the model:\n",
        "model.evaluate(test_images,test_labels)"
      ],
      "execution_count": 0,
      "outputs": []
    },
    {
      "cell_type": "code",
      "metadata": {
        "id": "lVzxOnDNr1x7",
        "colab_type": "code",
        "colab": {}
      },
      "source": [
        "# lets make the model predict the labels of test images :\n",
        "classifications = model.predict(test_images)\n",
        "print(classifications.shape)\n",
        "print(type(classifications))"
      ],
      "execution_count": 0,
      "outputs": []
    },
    {
      "cell_type": "code",
      "metadata": {
        "id": "vsut4Fy4vwuj",
        "colab_type": "code",
        "colab": {}
      },
      "source": [
        "classifications[0]"
      ],
      "execution_count": 0,
      "outputs": []
    },
    {
      "cell_type": "code",
      "metadata": {
        "id": "BPUImL13v1NJ",
        "colab_type": "code",
        "colab": {}
      },
      "source": [
        "test_labels[0]"
      ],
      "execution_count": 0,
      "outputs": []
    },
    {
      "cell_type": "code",
      "metadata": {
        "id": "W3ywOawnwAyC",
        "colab_type": "code",
        "colab": {}
      },
      "source": [
        "# Now lets try to change the model by increasing the number ofneurons in it and see what difference it makes :\n",
        "\n",
        "model = tf.keras.models.Sequential([ tf.keras.layers.Flatten(input_shape = (28,28)),\n",
        "                                     tf.keras.layers.Dense(units = 1024, activation = tf.nn.relu),\n",
        "                                     #keras.layers.Dense(units = 64, activation = tf.nn.relu),\n",
        "                                     tf.keras.layers.Dense(units = 10 , activation = tf.nn.softmax)\n",
        "                                   ])\n",
        "#Its time to compile the model now:\n",
        "model.compile(optimizer = 'adam',\n",
        "              loss = 'sparse_categorical_crossentropy',\n",
        "              metrics = ['accuracy']\n",
        "             )\n",
        "\n",
        "model.fit(train_images,train_labels,epochs = 10)\n",
        "\n",
        "model.evaluate(test_images,test_labels)"
      ],
      "execution_count": 0,
      "outputs": []
    },
    {
      "cell_type": "code",
      "metadata": {
        "id": "0fPJUAY_xFjW",
        "colab_type": "code",
        "colab": {}
      },
      "source": [
        "print(classifications[0])\n",
        "print(test_labels[0])"
      ],
      "execution_count": 0,
      "outputs": []
    },
    {
      "cell_type": "code",
      "metadata": {
        "id": "ejf5EuBjxqBc",
        "colab_type": "code",
        "colab": {}
      },
      "source": [
        ""
      ],
      "execution_count": 0,
      "outputs": []
    },
    {
      "cell_type": "markdown",
      "metadata": {
        "id": "Hce7dlT9zwNy",
        "colab_type": "text"
      },
      "source": [
        "What if I want to stop training if the model reaches certain level of accuracy ???\n",
        "\n",
        "Lets see how to actually do that :\n"
      ]
    },
    {
      "cell_type": "code",
      "metadata": {
        "id": "aiXsfpE4z8vp",
        "colab_type": "code",
        "colab": {}
      },
      "source": [
        "import tensorflow as tf \n",
        "import numpy as np"
      ],
      "execution_count": 0,
      "outputs": []
    },
    {
      "cell_type": "code",
      "metadata": {
        "id": "Z_cU1rXS0Brz",
        "colab_type": "code",
        "colab": {}
      },
      "source": [
        "fashion_mnist = tf.keras.datasets.fashion_mnist\n",
        "(train_images,train_labels),(test_images,test_labels) = fashion_mnist.load_data() "
      ],
      "execution_count": 0,
      "outputs": []
    },
    {
      "cell_type": "code",
      "metadata": {
        "id": "q6OFufqz3Ftb",
        "colab_type": "code",
        "colab": {}
      },
      "source": [
        "train_images = train_images/255.0\n",
        "test_images = test_images/255.0"
      ],
      "execution_count": 0,
      "outputs": []
    },
    {
      "cell_type": "code",
      "metadata": {
        "id": "UX0LMqDe0hTe",
        "colab_type": "code",
        "colab": {}
      },
      "source": [
        "model = tf.keras.models.Sequential([tf.keras.layers.Flatten(),\n",
        "                                    tf.keras.layers.Dense(units = 512 , activation = tf.nn.relu),\n",
        "                                    tf.keras.layers.Dense(units = 10,activation = tf.nn.softmax)\n",
        "                                   ])"
      ],
      "execution_count": 0,
      "outputs": []
    },
    {
      "cell_type": "code",
      "metadata": {
        "id": "dHbCEO861Sfq",
        "colab_type": "code",
        "colab": {}
      },
      "source": [
        "model.compile(optimizer = 'adam',loss = 'sparse_categorical_crossentropy')"
      ],
      "execution_count": 0,
      "outputs": []
    },
    {
      "cell_type": "code",
      "metadata": {
        "id": "4wQJRkMs1k3s",
        "colab_type": "code",
        "colab": {}
      },
      "source": [
        "# Now lets write our callback class ;l\n",
        "\n",
        "class myCallback(tf.keras.callbacks.Callback):\n",
        "  def on_epoch_end(self,epoch,logs = {}):\n",
        "    if logs.get('loss') < 0.4 :\n",
        "      print('\\nReached 60% accuracy so cancelling training !')\n",
        "      self.model.stop_training = True\n",
        "\n",
        "# lets now create an object of the class:\n",
        "\n",
        "callbacks = myCallback()\n"
      ],
      "execution_count": 0,
      "outputs": []
    },
    {
      "cell_type": "code",
      "metadata": {
        "id": "oynf-pSt2b_g",
        "colab_type": "code",
        "colab": {}
      },
      "source": [
        "#Now lets fit the data for training :\n",
        "\n",
        "history  = model.fit(train_images,train_labels,epochs = 20,callbacks = [callbacks])"
      ],
      "execution_count": 0,
      "outputs": []
    },
    {
      "cell_type": "code",
      "metadata": {
        "id": "0lalPK8P2y3E",
        "colab_type": "code",
        "colab": {}
      },
      "source": [
        "print(type(history))"
      ],
      "execution_count": 0,
      "outputs": []
    },
    {
      "cell_type": "markdown",
      "metadata": {
        "id": "llYNHpXWfWtu",
        "colab_type": "text"
      },
      "source": [
        "### Assignment 2"
      ]
    },
    {
      "cell_type": "markdown",
      "metadata": {
        "id": "suPJndjUfjB-",
        "colab_type": "text"
      },
      "source": [
        "In the course you learned how to do classificaiton using Fashion MNIST, a data set containing items of clothing. There's another, similar dataset called MNIST which has items of handwriting -- the digits 0 through 9.\n",
        "\n",
        "Write an MNIST classifier that trains to 99% accuracy or above, and does it without a fixed number of epochs -- i.e. you should stop training once you reach that level of accuracy.\n",
        "\n",
        "Some notes:\n",
        "1. It should succeed in less than 10 epochs, so it is okay to change epochs= to 10, but nothing larger\n",
        "2. When it reaches 99% or greater it should print out the string \"Reached 99% accuracy so cancelling training!\"\n",
        "3. If you add any additional variables, make sure you use the same names as the ones used in the class\n",
        "\n",
        "I've started the code for you below -- how would you finish it? "
      ]
    },
    {
      "cell_type": "code",
      "metadata": {
        "id": "iZES_8VFfYsZ",
        "colab_type": "code",
        "colab": {}
      },
      "source": [
        "import tensorflow as tf\n",
        "from tensorflow import keras\n",
        "import numpy as np\n",
        "import matplotlib.pyplot as plt"
      ],
      "execution_count": 0,
      "outputs": []
    },
    {
      "cell_type": "code",
      "metadata": {
        "id": "bgNK5Jzmf8Hb",
        "colab_type": "code",
        "colab": {}
      },
      "source": [
        "# GRADED FUNCTION: train_mnist\n",
        "def train_mnist():\n",
        "    # Please write your code only where you are indicated.\n",
        "    # please do not remove # model fitting inline comments.\n",
        "\n",
        "    # YOUR CODE SHOULD START HERE\n",
        "\n",
        "    # YOUR CODE SHOULD END HERE\n",
        "\n",
        "    mnist = tf.keras.datasets.mnist\n",
        "\n",
        "    (x_train, y_train),(x_test, y_test) = mnist.load_data(path=path)\n",
        "    # YOUR CODE SHOULD START HERE\n",
        "\n",
        "    # YOUR CODE SHOULD END HERE\n",
        "    model = tf.keras.models.Sequential([\n",
        "        # YOUR CODE SHOULD START HERE\n",
        "    \n",
        "        # YOUR CODE SHOULD END HERE\n",
        "    ])\n",
        "\n",
        "    model.compile(optimizer='adam',\n",
        "                  loss='sparse_categorical_crossentropy',\n",
        "                  metrics=['accuracy'])\n",
        "    \n",
        "    # model fitting\n",
        "    history = model.fit(# YOUR CODE SHOULD START HERE\n",
        "              # YOUR CODE SHOULD END HERE\n",
        "    )\n",
        "    # model fitting\n",
        "    return history.epoch, history.history['acc'][-1]"
      ],
      "execution_count": 0,
      "outputs": []
    },
    {
      "cell_type": "code",
      "metadata": {
        "id": "CI1fVyrugjVo",
        "colab_type": "code",
        "colab": {}
      },
      "source": [
        "# GRADED FUNCTION: train_mnist\n",
        "def train_mnist():\n",
        "    # Please write your code only where you are indicated.\n",
        "    # please do not remove # model fitting inline comments.\n",
        "\n",
        "    # ------------ YOUR CODE SHOULD START HERE ---------\n",
        "    \n",
        "    class myCallback(tf.keras.callbacks.Callback):\n",
        "      def on_epoch_end(self,epoch,logs = {}):\n",
        "        if logs.get('accuracy') > 0.99:\n",
        "          print(\"\\nReached 99% accuracy so cancelling training!\")\n",
        "          self.model.stop_training = True \n",
        "    \n",
        "    callbacks = myCallback()\n",
        "    \n",
        "    # ------------ YOUR CODE SHOULD END HERE----------\n",
        "\n",
        "    mnist = tf.keras.datasets.mnist\n",
        "\n",
        "    (x_train, y_train),(x_test, y_test) = mnist.load_data()\n",
        "\n",
        "    # -----------YOUR CODE SHOULD START HERE----------------\n",
        "    \n",
        "    x_train = x_train/255.0\n",
        "    x_test = x_test/255.0\n",
        "    \n",
        "    # -----------YOUR CODE SHOULD END HERE -----------------\n",
        "\n",
        "    model = tf.keras.models.Sequential([\n",
        "                                        \n",
        "        # -------------YOUR CODE SHOULD START HERE------------\n",
        "        tf.keras.layers.Flatten(input_shape = (28,28)),\n",
        "        tf.keras.layers.Dense(units = 512,activation = tf.nn.relu),\n",
        "        tf.keras.layers.Dense(units = 10 , activation = tf.nn.softmax) \n",
        "        # -------------YOUR CODE SHOULD END HERE--------------\n",
        "\n",
        "    ])\n",
        "\n",
        "    model.compile(optimizer='adam',\n",
        "                  loss='sparse_categorical_crossentropy',\n",
        "                  metrics=['accuracy'])\n",
        "    \n",
        "    # model fitting\n",
        "    history = model.fit(# ----------YOUR CODE SHOULD START HERE------------\n",
        "                        \n",
        "                        x_train,y_train,epochs = 10,callbacks =[callbacks]\n",
        "                        \n",
        "                        # ----------YOUR CODE SHOULD END HERE ---------------\n",
        "    )\n",
        "    # model fitting\n",
        "\n",
        "    print(\"Evaluation Performance : \" ,model.evaluate(x_test,y_test))\n",
        "\n",
        "    return history.epoch, history.history['accuracy'][-1]"
      ],
      "execution_count": 0,
      "outputs": []
    },
    {
      "cell_type": "code",
      "metadata": {
        "id": "07vnWNPRhGy-",
        "colab_type": "code",
        "outputId": "720ce871-9be3-4a8d-8034-0cd741b0cf9e",
        "colab": {
          "base_uri": "https://localhost:8080/",
          "height": 294
        }
      },
      "source": [
        "train_mnist()"
      ],
      "execution_count": 0,
      "outputs": [
        {
          "output_type": "stream",
          "text": [
            "Epoch 1/10\n",
            "1875/1875 [==============================] - 7s 4ms/step - loss: 0.2018 - accuracy: 0.9410\n",
            "Epoch 2/10\n",
            "1875/1875 [==============================] - 7s 4ms/step - loss: 0.0809 - accuracy: 0.9749\n",
            "Epoch 3/10\n",
            "1875/1875 [==============================] - 7s 4ms/step - loss: 0.0521 - accuracy: 0.9836\n",
            "Epoch 4/10\n",
            "1875/1875 [==============================] - 7s 4ms/step - loss: 0.0360 - accuracy: 0.9880\n",
            "Epoch 5/10\n",
            "1865/1875 [============================>.] - ETA: 0s - loss: 0.0280 - accuracy: 0.9907\n",
            "Reached 99% accuracy so cancelling training!\n",
            "1875/1875 [==============================] - 7s 4ms/step - loss: 0.0280 - accuracy: 0.9906\n",
            "313/313 [==============================] - 1s 2ms/step - loss: 0.0622 - accuracy: 0.9824\n",
            "Evaluation Performance :  [0.06218541041016579, 0.9824000000953674]\n"
          ],
          "name": "stdout"
        },
        {
          "output_type": "execute_result",
          "data": {
            "text/plain": [
              "([0, 1, 2, 3, 4], 0.9906499981880188)"
            ]
          },
          "metadata": {
            "tags": []
          },
          "execution_count": 55
        }
      ]
    },
    {
      "cell_type": "code",
      "metadata": {
        "id": "wFk8QcC4h5py",
        "colab_type": "code",
        "colab": {}
      },
      "source": [
        ""
      ],
      "execution_count": 0,
      "outputs": []
    }
  ]
}